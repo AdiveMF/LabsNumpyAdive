{
 "cells": [
  {
   "cell_type": "code",
   "execution_count": null,
   "id": "4ead6037-b5e4-4444-9ebe-ea581d981494",
   "metadata": {},
   "outputs": [],
   "source": [
    "#1. Importa el paquete NUMPY bajo el nombre np."
   ]
  },
  {
   "cell_type": "code",
   "execution_count": 3,
   "id": "2460c47a-976a-4cc7-b563-4be6ad44ac1f",
   "metadata": {},
   "outputs": [],
   "source": [
    "#[tu código aquí]\n",
    "import numpy as np"
   ]
  },
  {
   "cell_type": "code",
   "execution_count": 6,
   "id": "91a32624-1cbe-4680-801f-7415b6a36a84",
   "metadata": {},
   "outputs": [
    {
     "name": "stdout",
     "output_type": "stream",
     "text": [
      "1.26.4\n"
     ]
    }
   ],
   "source": [
    "#2. Imprime la versión de NUMPY y la configuración.\n",
    "\n",
    "#[tu código aquí]\n",
    "\n",
    "print(np.__version__)"
   ]
  },
  {
   "cell_type": "code",
   "execution_count": 9,
   "id": "4293ffca-39ce-49ae-bc51-f7281a315c82",
   "metadata": {},
   "outputs": [],
   "source": [
    "#3. Genera un array tridimensional de 2x3x5 con valores aleatorios. Asigna el array a la variable \"a\"\n",
    "a = np.random.rand(2,3,5)"
   ]
  },
  {
   "cell_type": "code",
   "execution_count": 12,
   "id": "20a53793-5c7f-4bc6-a663-430f0ca2bdaf",
   "metadata": {},
   "outputs": [
    {
     "name": "stdout",
     "output_type": "stream",
     "text": [
      "[[[0.32009975 0.46530671 0.08840066 0.38030947 0.85705006]\n",
      "  [0.61966985 0.70786898 0.44077501 0.22976235 0.4124286 ]\n",
      "  [0.94451717 0.00986782 0.78053398 0.72898728 0.63194911]]\n",
      "\n",
      " [[0.05040288 0.08562826 0.77256399 0.14276822 0.53449131]\n",
      "  [0.19835618 0.90751386 0.39016975 0.51303562 0.39552909]\n",
      "  [0.00854988 0.12376224 0.67299474 0.75770104 0.4782181 ]]]\n"
     ]
    }
   ],
   "source": [
    "# Desafío: hay al menos tres maneras fáciles que usan numpy para generar arrays aleatorios. ¿Cuántas formas puedes encontrar? \n",
    "\n",
    "#[tu código aquí]\n",
    "#np.random.random(), np.random.rand() y np.random.randint()\n",
    "\n",
    "#4. Imprime a.\n",
    "\n",
    "#[tu código aquí]\n",
    "print(a)"
   ]
  },
  {
   "cell_type": "code",
   "execution_count": 15,
   "id": "dae8cdce-ad2b-413f-a203-0967a277981d",
   "metadata": {},
   "outputs": [],
   "source": [
    "#5. Crea un array tridimensional de 5x2x3 con todos los valores igual a 1.\n",
    "#Asigna el array a la variable \"b\"\n",
    "\n",
    "#[tu código aquí]\n",
    "\n",
    "b = np.ones((5,2,3))\n"
   ]
  },
  {
   "cell_type": "code",
   "execution_count": 17,
   "id": "ab23ec22-fad3-47b0-ba21-968a4f2a874d",
   "metadata": {},
   "outputs": [
    {
     "name": "stdout",
     "output_type": "stream",
     "text": [
      "[[[1. 1. 1.]\n",
      "  [1. 1. 1.]]\n",
      "\n",
      " [[1. 1. 1.]\n",
      "  [1. 1. 1.]]\n",
      "\n",
      " [[1. 1. 1.]\n",
      "  [1. 1. 1.]]\n",
      "\n",
      " [[1. 1. 1.]\n",
      "  [1. 1. 1.]]\n",
      "\n",
      " [[1. 1. 1.]\n",
      "  [1. 1. 1.]]]\n"
     ]
    }
   ],
   "source": [
    "#6. Imprime b.\n",
    "\n",
    "print (b)\n",
    "\n",
    "#[tu código aquí]"
   ]
  },
  {
   "cell_type": "code",
   "execution_count": 20,
   "id": "bb91138b-5897-45f8-8748-ce313639ec5a",
   "metadata": {},
   "outputs": [
    {
     "name": "stdout",
     "output_type": "stream",
     "text": [
      "True\n"
     ]
    }
   ],
   "source": [
    "#7. ¿Tienen a y b el mismo tamaño? ¿Cómo lo demuestras en código Python?\n",
    "\n",
    "\n",
    "#[tu código aquí]\n",
    "x = a.size==b.size\n",
    "print(x)\n"
   ]
  },
  {
   "cell_type": "code",
   "execution_count": 23,
   "id": "d91bd1ad-87ad-4a8a-ab22-236e827c8b6d",
   "metadata": {},
   "outputs": [],
   "source": [
    "#8. ¿Es posible sumar a y b? ¿Por qué sí o por qué no?\n",
    "\n",
    "#[tu código aquí]\n",
    "#No es posible porque tienen diferente estructura"
   ]
  },
  {
   "cell_type": "code",
   "execution_count": 26,
   "id": "7a00e53b-4ab1-4f5e-8dec-ccdb83b5d0c6",
   "metadata": {},
   "outputs": [
    {
     "name": "stdout",
     "output_type": "stream",
     "text": [
      "[[[1. 1. 1. 1. 1.]\n",
      "  [1. 1. 1. 1. 1.]\n",
      "  [1. 1. 1. 1. 1.]]\n",
      "\n",
      " [[1. 1. 1. 1. 1.]\n",
      "  [1. 1. 1. 1. 1.]\n",
      "  [1. 1. 1. 1. 1.]]]\n"
     ]
    }
   ],
   "source": [
    "#9. Transpone b para que tenga la misma estructura que a (es decir, se convierta en un array de 2x3x5). Asigna el array transpuesto a la variable \"c\".\n",
    "\n",
    "#[tu código aquí]\n",
    "c = b.reshape(2,3,5)\n",
    "print(c)"
   ]
  },
  {
   "cell_type": "code",
   "execution_count": 49,
   "id": "b8dfb858-0719-4dc1-83bc-4644a4b2a207",
   "metadata": {},
   "outputs": [
    {
     "name": "stdout",
     "output_type": "stream",
     "text": [
      "[[[1.32009975 1.46530671 1.08840066 1.38030947 1.85705006]\n",
      "  [1.61966985 1.70786898 1.44077501 1.22976235 1.4124286 ]\n",
      "  [1.94451717 1.00986782 1.78053398 1.72898728 1.63194911]]\n",
      "\n",
      " [[1.05040288 1.08562826 1.77256399 1.14276822 1.53449131]\n",
      "  [1.19835618 1.90751386 1.39016975 1.51303562 1.39552909]\n",
      "  [1.00854988 1.12376224 1.67299474 1.75770104 1.4782181 ]]]\n"
     ]
    }
   ],
   "source": [
    "#10. Intenta sumar a y c. Ahora debería funcionar. Asigna la suma a la variable \"d\". Pero, ¿por qué funciona ahora?\n",
    "d = (a + c)\n",
    "print(d)\n",
    "\n",
    "#Ahora funciona porque tienen la misma estructura \n",
    "\n",
    "#[tu código aquí]"
   ]
  },
  {
   "cell_type": "code",
   "execution_count": 51,
   "id": "97305e63-ca38-4cb6-8124-08de0ffc4a05",
   "metadata": {},
   "outputs": [
    {
     "name": "stdout",
     "output_type": "stream",
     "text": [
      "[[[0.32009975 0.46530671 0.08840066 0.38030947 0.85705006]\n",
      "  [0.61966985 0.70786898 0.44077501 0.22976235 0.4124286 ]\n",
      "  [0.94451717 0.00986782 0.78053398 0.72898728 0.63194911]]\n",
      "\n",
      " [[0.05040288 0.08562826 0.77256399 0.14276822 0.53449131]\n",
      "  [0.19835618 0.90751386 0.39016975 0.51303562 0.39552909]\n",
      "  [0.00854988 0.12376224 0.67299474 0.75770104 0.4782181 ]]]\n",
      "[[[1.32009975 1.46530671 1.08840066 1.38030947 1.85705006]\n",
      "  [1.61966985 1.70786898 1.44077501 1.22976235 1.4124286 ]\n",
      "  [1.94451717 1.00986782 1.78053398 1.72898728 1.63194911]]\n",
      "\n",
      " [[1.05040288 1.08562826 1.77256399 1.14276822 1.53449131]\n",
      "  [1.19835618 1.90751386 1.39016975 1.51303562 1.39552909]\n",
      "  [1.00854988 1.12376224 1.67299474 1.75770104 1.4782181 ]]]\n"
     ]
    }
   ],
   "source": [
    "#11. Imprime a y d. ¿Notas la diferencia y la relación entre los dos arrays en términos de los valores? Explica.\n",
    "\n",
    "#[tu código aquí]\n",
    "print(a)\n",
    "print(d)"
   ]
  },
  {
   "cell_type": "code",
   "execution_count": 53,
   "id": "fd1ab849-2309-4585-8088-8d161aaa5af2",
   "metadata": {},
   "outputs": [
    {
     "name": "stdout",
     "output_type": "stream",
     "text": [
      "[[[0.32009975 0.46530671 0.08840066 0.38030947 0.85705006]\n",
      "  [0.61966985 0.70786898 0.44077501 0.22976235 0.4124286 ]\n",
      "  [0.94451717 0.00986782 0.78053398 0.72898728 0.63194911]]\n",
      "\n",
      " [[0.05040288 0.08562826 0.77256399 0.14276822 0.53449131]\n",
      "  [0.19835618 0.90751386 0.39016975 0.51303562 0.39552909]\n",
      "  [0.00854988 0.12376224 0.67299474 0.75770104 0.4782181 ]]]\n"
     ]
    }
   ],
   "source": [
    "#12. Multiplica a y c. Asigna el resultado a e.\n",
    "\n",
    "#[tu código aquí]\n",
    "e = a*c\n",
    "\n",
    "print(e)"
   ]
  },
  {
   "cell_type": "code",
   "execution_count": null,
   "id": "248d26a3-115f-4eca-bc5d-381840aa611d",
   "metadata": {},
   "outputs": [],
   "source": [
    "#13. ¿Es e igual a a? ¿Por qué sí o por qué no?\n",
    "\n",
    "#[tu código aquí]\n",
    "#Sí "
   ]
  },
  {
   "cell_type": "code",
   "execution_count": 55,
   "id": "a2664f34-440d-4293-b3f2-caf792265f47",
   "metadata": {},
   "outputs": [
    {
     "name": "stdout",
     "output_type": "stream",
     "text": [
      "1.944517169444933\n",
      "1.0085498768277343\n",
      "1.4549737314677018\n"
     ]
    }
   ],
   "source": [
    "#14. Identifica los valores máximos, mínimos y medios en d. Asigna esos valores a las variables \"d_max\", \"d_min\" y \"d_mean\"\n",
    "\n",
    "#[tu código aquí]\n",
    "d_max = np.max(d)\n",
    "d_min = np.min(d)\n",
    "d_mean = np.mean(d)\n",
    "\n",
    "print(d_max)\n",
    "print(d_min)\n",
    "print(d_mean)"
   ]
  },
  {
   "cell_type": "code",
   "execution_count": 71,
   "id": "c2fe094d-74ed-40a2-a203-095940f873e5",
   "metadata": {},
   "outputs": [
    {
     "name": "stdout",
     "output_type": "stream",
     "text": [
      "[[[0.32009975 0.46530671 0.08840066 0.38030947 0.85705006]\n",
      "  [0.61966985 0.70786898 0.44077501 0.22976235 0.4124286 ]\n",
      "  [0.94451717 0.00986782 0.78053398 0.72898728 0.63194911]]\n",
      "\n",
      " [[0.05040288 0.08562826 0.77256399 0.14276822 0.53449131]\n",
      "  [0.19835618 0.90751386 0.39016975 0.51303562 0.39552909]\n",
      "  [0.00854988 0.12376224 0.67299474 0.75770104 0.4782181 ]]]\n"
     ]
    }
   ],
   "source": [
    "#15. Ahora queremos etiquetar los valores en d. Primero crea un array vacío \"f\" con la misma forma (es decir, 2x3x5) que d usando `np.empty`.\n",
    "\n",
    "#[tu código aquí]\n",
    "\n",
    "f = np.empty(d.shape)\n",
    "print(f)"
   ]
  },
  {
   "cell_type": "code",
   "execution_count": 92,
   "id": "c9b0d4fb-5b91-44cf-a154-9b90d391dd2e",
   "metadata": {
    "scrolled": true
   },
   "outputs": [
    {
     "name": "stdout",
     "output_type": "stream",
     "text": [
      "[[[ 25.  75.  25.  25.  75.]\n",
      "  [ 75.  75.  25.  25.  25.]\n",
      "  [100.  25.  75.  75.  75.]]\n",
      "\n",
      " [[ 25.  25.  75.  25.  75.]\n",
      "  [ 25.  75.  25.  75.  25.]\n",
      "  [  0.  25.  75.  75.  75.]]]\n"
     ]
    }
   ],
   "source": [
    "\"\"\"\n",
    "#16. Rellena los valores en f. Para cada valor en d, si es mayor que d_min pero menor que d_mean, asigna 25 al valor correspondiente en f.\n",
    "Si un valor en d es mayor que d_mean pero menor que d_max, asigna 75 al valor correspondiente en f.\n",
    "Si un valor es igual a d_mean, asigna 50 al valor correspondiente en f.\n",
    "Asigna 0 al valor correspondiente(s) en f para d_min en d.\n",
    "Asigna 100 al valor correspondiente(s) en f para d_max en d.\n",
    "Al final, f debería tener solo los siguientes valores: 0, 25, 50, 75 y 100.\n",
    "Nota: no necesitas usar Numpy en esta pregunta.\n",
    "\"\"\"\n",
    "\n",
    "#[tu código aquí]\n",
    "\n",
    "f[(d > d_min) & (d < d_mean)] = 25\n",
    "f[(d > d_mean) & ( d < d_max)] = 75\n",
    "f[(d == d_mean)] = 50\n",
    "f[(d == d_min)] = 0\n",
    "f[(d == d_max)] = 100\n",
    "\n",
    "print(f)\n",
    "\n"
   ]
  },
  {
   "cell_type": "code",
   "execution_count": 94,
   "id": "f4f607a7-96b1-48b0-b99a-3be7fda431b4",
   "metadata": {},
   "outputs": [
    {
     "name": "stdout",
     "output_type": "stream",
     "text": [
      "[[[ 25.  75.  25.  25.  75.]\n",
      "  [ 75.  75.  25.  25.  25.]\n",
      "  [100.  25.  75.  75.  75.]]\n",
      "\n",
      " [[ 25.  25.  75.  25.  75.]\n",
      "  [ 25.  75.  25.  75.  25.]\n",
      "  [  0.  25.  75.  75.  75.]]]\n",
      "[[[1.32009975 1.46530671 1.08840066 1.38030947 1.85705006]\n",
      "  [1.61966985 1.70786898 1.44077501 1.22976235 1.4124286 ]\n",
      "  [1.94451717 1.00986782 1.78053398 1.72898728 1.63194911]]\n",
      "\n",
      " [[1.05040288 1.08562826 1.77256399 1.14276822 1.53449131]\n",
      "  [1.19835618 1.90751386 1.39016975 1.51303562 1.39552909]\n",
      "  [1.00854988 1.12376224 1.67299474 1.75770104 1.4782181 ]]]\n"
     ]
    }
   ],
   "source": [
    "\"\"\"\n",
    "#17. Imprime d y f. ¿Tienes el f esperado?\n",
    "Por ejemplo, si tu d es:\n",
    "array([[[1.85836099, 1.67064465, 1.62576044, 1.40243961, 1.88454931],\n",
    "        [1.75354326, 1.69403643, 1.36729252, 1.61415071, 1.12104981],\n",
    "        [1.72201435, 1.1862918 , 1.87078449, 1.7726778 , 1.88180042]],\n",
    "\n",
    "       [[1.44747908, 1.31673383, 1.02000951, 1.52218947, 1.97066381],\n",
    "        [1.79129243, 1.74983003, 1.96028037, 1.85166831, 1.65450881],\n",
    "        [1.18068344, 1.9587381 , 1.00656599, 1.93402165, 1.73514584]]])\n",
    "\n",
    "Tu f debería ser:\n",
    "array([[[ 75.,  75.,  75.,  25.,  75.],\n",
    "        [ 75.,  75.,  25.,  25.,  25.],\n",
    "        [ 75.,  25.,  75.,  75.,  75.]],\n",
    "\n",
    "       [[ 25.,  25.,  25.,  25., 100.],\n",
    "        [ 75.,  75.,  75.,  75.,  75.],\n",
    "        [ 25.,  75.,   0.,  75.,  75.]]])\n",
    "\"\"\"\n",
    "\n",
    "#[tu código aquí]\n",
    "\n",
    "print (f)\n",
    "print (d)\n"
   ]
  },
  {
   "cell_type": "code",
   "execution_count": 96,
   "id": "57c39c50-6ad9-4259-b565-b5d736680d98",
   "metadata": {},
   "outputs": [
    {
     "name": "stdout",
     "output_type": "stream",
     "text": [
      "[[['A' 'B' 'A' 'A' 'B']\n",
      "  ['B' 'B' 'A' 'A' 'A']\n",
      "  ['E' 'A' 'B' 'B' 'B']]\n",
      "\n",
      " [['A' 'A' 'B' 'A' 'B']\n",
      "  ['A' 'B' 'A' 'B' 'A']\n",
      "  ['D' 'A' 'B' 'B' 'B']]]\n"
     ]
    }
   ],
   "source": [
    "\"\"\"\n",
    "#18. Pregunta de bonificación: en lugar de usar números (es decir, 0, 25, 50, 75 y 100), ¿cómo usar valores de cadena \n",
    "(\"A\", \"B\", \"C\", \"D\" y \"E\") para etiquetar los elementos del array? Esperas el resultado sea:\n",
    "array([[[ 'D',  'D',  'D',  'B',  'D'],\n",
    "        [ 'D',  'D',  'B',  'B',  'B'],\n",
    "        [ 'D',  'B',  'D',  'D',  'D']],\n",
    "\n",
    "       [[ 'B',  'B',  'B',  'B',  'E'],\n",
    "        [ 'D',  'D',  'D',  'D',  'D'],\n",
    "        [ 'B',  'D',   'A',  'D', 'D']]])\n",
    "De nuevo, no necesitas Numpy en esta pregunta.\n",
    "\"\"\"\n",
    "\n",
    "#[tu código aquí]\n",
    "f2 = np.empty(d.shape, dtype=object)\n",
    "\n",
    "f2[(d > d_min) & (d < d_mean)] = \"A\"\n",
    "f2[(d > d_mean) & ( d < d_max)] = \"B\"\n",
    "f2[(d == d_mean)] = \"C\"\n",
    "f2[(d == d_min)] = \"D\"\n",
    "f2[(d == d_max)] = \"E\"\n",
    "\n",
    "print (f2)\n",
    "\n",
    "#def etiquetar(valor):\n",
    "    if valor == 0:\n",
    "        return 'A'\n",
    "    elif valor == 25:\n",
    "        return 'B'\n",
    "    elif valor == 50:\n",
    "        return 'C'\n",
    "    elif valor == 75:\n",
    "        return 'D'\n",
    "    else:\n",
    "        return 'E'\n",
    "        \n",
    "#np.vectorize(): Convierte la función para que pueda aplicarse a cada elemento de la matriz.\n",
    "#f=np.vectorize(etiquetar)(f)\n",
    "#print(f)\n"
   ]
  }
 ],
 "metadata": {
  "kernelspec": {
   "display_name": "Python 3 (ipykernel)",
   "language": "python",
   "name": "python3"
  },
  "language_info": {
   "codemirror_mode": {
    "name": "ipython",
    "version": 3
   },
   "file_extension": ".py",
   "mimetype": "text/x-python",
   "name": "python",
   "nbconvert_exporter": "python",
   "pygments_lexer": "ipython3",
   "version": "3.12.4"
  }
 },
 "nbformat": 4,
 "nbformat_minor": 5
}
